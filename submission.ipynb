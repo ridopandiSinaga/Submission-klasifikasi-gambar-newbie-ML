{
  "cells": [
    {
      "cell_type": "markdown",
      "metadata": {
        "id": "view-in-github",
        "colab_type": "text"
      },
      "source": [
        "<a href=\"https://colab.research.google.com/github/ridopandiSinaga/Submission-klasifikasi-gambar-newbie-ML/blob/main/submission.ipynb\" target=\"_parent\"><img src=\"https://colab.research.google.com/assets/colab-badge.svg\" alt=\"Open In Colab\"/></a>"
      ]
    },
    {
      "cell_type": "markdown",
      "source": [
        "# Submission Proyek Akhir Klasifikasi Gambar oleh:        Ridopandi Sinaga"
      ],
      "metadata": {
        "id": "gAjdG6BUK2Gp"
      }
    },
    {
      "cell_type": "markdown",
      "metadata": {
        "id": "0F04jXLQj14L"
      },
      "source": [
        "\n",
        "* **import tensorflow as tf**:\n",
        "mengimpor modul TensorFlow yang diperlukan untuk pengembangan model deep learning\n",
        "\n",
        "* **from tensorflow.keras.optimizers import RMSprop**: mengimpor optimiser RMSprop untuk model keras yang digunakan untuk memperbarui bobot saat model dilatih\n",
        "\n",
        "* **from tensorflow.keras.preprocessing.image import ImageDataGenerator**: mengimpor modul ImageDataGenerator untuk melakukan augmentasi data gambar dan memuat gambar secara otomatis dari direktori yang ditentukan.\n",
        "\n",
        "\n"
      ]
    },
    {
      "cell_type": "code",
      "execution_count": null,
      "metadata": {
        "id": "Jz9JILHxO_bz"
      },
      "outputs": [],
      "source": [
        "import tensorflow as tf\n",
        "from tensorflow.keras.optimizers import RMSprop\n",
        "from tensorflow.keras.preprocessing.image import ImageDataGenerator"
      ]
    },
    {
      "cell_type": "markdown",
      "metadata": {
        "id": "8CaRLOeUm0Op"
      },
      "source": [
        "\n",
        "\n",
        "*  **import zipfile, os** adalah untuk mengimport dua modul yaitu zipfile dan os.\n",
        "\n",
        "*  **local_zip = '/content/sample_data/rockpaperscissors.zip**' adalah untuk menyimpan alamat file .zip dari dataset rockpaperscissors pada variabel local_zip.\n",
        "*  **zip_ref = zipfile.ZipFile(local_zip, 'r')** adalah untuk membuka file .zip pada local_zip dan menyimpannya pada variabel zip_ref.\n",
        "\n",
        "*   **zip_ref.extractall('/content/sample_data')** adalah untuk mengekstrak isi dari file .zip ke dalam direktori /content/sample_data.\n",
        "*   **zip_ref.close()** adalah untuk menutup file .zip yang sudah diekstrak.\n",
        "*   **base_dir = '/content/sample_data/rockpaperscissors/rps-cv-images'** adalah untuk menyimpan direktori gambar rockpaperscissors yang akan digunakan untuk pelatihan model.\n"
      ]
    },
    {
      "cell_type": "code",
      "execution_count": null,
      "metadata": {
        "colab": {
          "base_uri": "https://localhost:8080/"
        },
        "id": "lCuM7d44PLuu",
        "outputId": "d374cd57-ef64-445f-a425-90ead5b1651b"
      },
      "outputs": [
        {
          "output_type": "stream",
          "name": "stdout",
          "text": [
            "Drive already mounted at /content/gdrive; to attempt to forcibly remount, call drive.mount(\"/content/gdrive\", force_remount=True).\n",
            "/content/gdrive/MyDrive/MachineLearning\n"
          ]
        }
      ],
      "source": [
        "\n",
        "import zipfile, os\n",
        "from google.colab import drive\n",
        "from google.colab import files\n",
        "\n",
        "drive.mount('/content/gdrive')\n",
        "\n",
        "%cd /content/gdrive/MyDrive/MachineLearning\n",
        "\n",
        "\n",
        "local_zip ='/content/gdrive/MyDrive/MachineLearning/rockpaperscissors.zip'\n",
        "zip_ref = zipfile.ZipFile(local_zip, 'r')\n",
        "zip_ref.extractall('/content/gdrive/MyDrive/MachineLearning/')\n",
        "zip_ref.close()\n",
        "\n",
        "base_dir = '/content/gdrive/MyDrive/MachineLearning/rockpaperscissors/rps-cv-images'"
      ]
    },
    {
      "cell_type": "markdown",
      "metadata": {
        "id": "GM2BsElnoCmG"
      },
      "source": [
        "menampilkan daftar file dan folder yang berada pada direktori base_dir. "
      ]
    },
    {
      "cell_type": "code",
      "execution_count": null,
      "metadata": {
        "id": "WPMHTQ0HPTRP",
        "colab": {
          "base_uri": "https://localhost:8080/"
        },
        "outputId": "35a5ae7f-ac87-49dd-ba73-4e46fae9e2cd"
      },
      "outputs": [
        {
          "output_type": "execute_result",
          "data": {
            "text/plain": [
              "['paper', 'rock', 'scissors', 'README_rpc-cv-images.txt']"
            ]
          },
          "metadata": {},
          "execution_count": 2
        }
      ],
      "source": [
        "\n",
        "os.listdir(base_dir)"
      ]
    },
    {
      "cell_type": "markdown",
      "metadata": {
        "id": "LYHM6B8goP_o"
      },
      "source": [
        "melakukan augmentasi data pada gambar dalam dataset yang akan digunakan untuk training model."
      ]
    },
    {
      "cell_type": "code",
      "execution_count": null,
      "metadata": {
        "id": "RwdfmJxTc-Rt"
      },
      "outputs": [],
      "source": [
        "train_datagen = ImageDataGenerator(\n",
        "    rescale = 1./255,                       #nilai pixel pada citra menjadi nilai dalam rentang 0 hingga 1.\n",
        "    shear_range = 0.2,                      #kolom citra  digeser sebesar 20% dari dimensinya.\n",
        "    rotation_range = 20,                    #citra  diputar sebesar 20 derajat dalam arah searah atau berlawanan arah jarum jam.\n",
        "    fill_mode = 'wrap',                     #membalikkan piksel di tepi citra menjadi bagian dalam citra untuk masalah piksel kosong pada batas citra\n",
        "    horizontal_flip = True,                 #citra akan diputar secara horizontal dengan kemungkinan 50%.\n",
        "    validation_split = 0.4                  #40% data validasi, 60% data train\n",
        ")"
      ]
    },
    {
      "cell_type": "code",
      "execution_count": null,
      "metadata": {
        "colab": {
          "base_uri": "https://localhost:8080/"
        },
        "id": "ElRWij3ydArG",
        "outputId": "e2738170-a1ae-4c62-a885-5563075f69a9"
      },
      "outputs": [
        {
          "output_type": "stream",
          "name": "stdout",
          "text": [
            "Found 1314 images belonging to 3 classes.\n",
            "Found 874 images belonging to 3 classes.\n"
          ]
        }
      ],
      "source": [
        "# menghasilkan batch gambar training, \n",
        "training_generator = train_datagen.flow_from_directory(\n",
        "    base_dir,\n",
        "    target_size = (100, 150),\n",
        "    shuffle = True,\n",
        "    subset = 'training'\n",
        ")\n",
        "# menghasilkan batch gambar validation.\n",
        "validation_generator = train_datagen.flow_from_directory(\n",
        "    base_dir,\n",
        "    target_size = (100, 150),\n",
        "    subset = 'validation'\n",
        ")"
      ]
    },
    {
      "cell_type": "code",
      "execution_count": null,
      "metadata": {
        "id": "wf9n3XyIdDbA"
      },
      "outputs": [],
      "source": [
        "# model neural network untuk mengklasifikasikan gambar tangan yang membentuk gunting, batu, atau kertas. \n",
        "model = tf.keras.models.Sequential([\n",
        "                                    tf.keras.layers.Conv2D(16, (3,3), activation = 'relu', input_shape = (100, 150, 3)),\n",
        "                                    tf.keras.layers.MaxPooling2D(2,2),\n",
        "                                    tf.keras.layers.Conv2D(32, (3,3), activation = 'relu'),\n",
        "                                    tf.keras.layers.MaxPooling2D(2,2),\n",
        "                                    tf.keras.layers.Conv2D(64, (3,3), activation = 'relu'),\n",
        "                                    tf.keras.layers.MaxPooling2D(2,2),\n",
        "                                    tf.keras.layers.Flatten(),\n",
        "                                    tf.keras.layers.Dense(512, activation = 'relu'),\n",
        "                                    tf.keras.layers.Dense(3, activation = 'softmax')\n",
        "])"
      ]
    },
    {
      "cell_type": "code",
      "execution_count": null,
      "metadata": {
        "id": "0-6_Kq8PdGay"
      },
      "outputs": [],
      "source": [
        "# mengompilasi model dengan menentukan loss function, optimizer, dan metrics yang akan digunakan saat proses pelatihan model.\n",
        "model.compile(\n",
        "    loss = 'categorical_crossentropy',\n",
        "    optimizer = tf.optimizers.Adam(),\n",
        "    metrics = ['accuracy']\n",
        ")"
      ]
    },
    {
      "cell_type": "code",
      "execution_count": null,
      "metadata": {
        "colab": {
          "base_uri": "https://localhost:8080/"
        },
        "id": "0n273K4qdJFM",
        "outputId": "f65558b9-d736-42ac-93b8-fc02e72195e9"
      },
      "outputs": [
        {
          "output_type": "stream",
          "name": "stdout",
          "text": [
            "Epoch 1/15\n",
            "16/16 - 24s - loss: 1.2490 - accuracy: 0.3828 - val_loss: 1.0634 - val_accuracy: 0.3750 - 24s/epoch - 2s/step\n",
            "Epoch 2/15\n",
            "16/16 - 16s - loss: 1.0202 - accuracy: 0.4785 - val_loss: 0.8858 - val_accuracy: 0.5703 - 16s/epoch - 972ms/step\n",
            "Epoch 3/15\n",
            "16/16 - 15s - loss: 0.7727 - accuracy: 0.6909 - val_loss: 0.6438 - val_accuracy: 0.7969 - 15s/epoch - 942ms/step\n",
            "Epoch 4/15\n",
            "16/16 - 16s - loss: 0.6126 - accuracy: 0.7697 - val_loss: 0.4764 - val_accuracy: 0.8516 - 16s/epoch - 1s/step\n",
            "Epoch 5/15\n",
            "16/16 - 15s - loss: 0.4128 - accuracy: 0.8594 - val_loss: 0.3682 - val_accuracy: 0.8750 - 15s/epoch - 965ms/step\n",
            "Epoch 6/15\n",
            "16/16 - 15s - loss: 0.3273 - accuracy: 0.8887 - val_loss: 0.4972 - val_accuracy: 0.7578 - 15s/epoch - 917ms/step\n",
            "Epoch 7/15\n",
            "16/16 - 15s - loss: 0.3007 - accuracy: 0.8797 - val_loss: 0.1927 - val_accuracy: 0.9219 - 15s/epoch - 927ms/step\n",
            "Epoch 8/15\n",
            "16/16 - 15s - loss: 0.2901 - accuracy: 0.8984 - val_loss: 0.1764 - val_accuracy: 0.9219 - 15s/epoch - 922ms/step\n",
            "Epoch 9/15\n",
            "16/16 - 15s - loss: 0.2055 - accuracy: 0.9398 - val_loss: 0.2545 - val_accuracy: 0.9375 - 15s/epoch - 938ms/step\n",
            "Epoch 10/15\n",
            "16/16 - 13s - loss: 0.2448 - accuracy: 0.9232 - val_loss: 0.3176 - val_accuracy: 0.8984 - 13s/epoch - 836ms/step\n",
            "Epoch 11/15\n",
            "16/16 - 15s - loss: 0.2352 - accuracy: 0.9141 - val_loss: 0.2468 - val_accuracy: 0.9219 - 15s/epoch - 967ms/step\n",
            "Epoch 12/15\n",
            "16/16 - 14s - loss: 0.2040 - accuracy: 0.9295 - val_loss: 0.2343 - val_accuracy: 0.9531 - 14s/epoch - 875ms/step\n",
            "Epoch 13/15\n",
            "16/16 - 15s - loss: 0.1727 - accuracy: 0.9434 - val_loss: 0.4613 - val_accuracy: 0.8672 - 15s/epoch - 930ms/step\n",
            "Epoch 14/15\n",
            "16/16 - 15s - loss: 0.2732 - accuracy: 0.8945 - val_loss: 0.2450 - val_accuracy: 0.9141 - 15s/epoch - 914ms/step\n",
            "Epoch 15/15\n",
            "16/16 - 15s - loss: 0.1899 - accuracy: 0.9375 - val_loss: 0.1812 - val_accuracy: 0.9453 - 15s/epoch - 961ms/step\n"
          ]
        },
        {
          "output_type": "execute_result",
          "data": {
            "text/plain": [
              "<keras.callbacks.History at 0x7fbdefedc3d0>"
            ]
          },
          "metadata": {},
          "execution_count": 10
        }
      ],
      "source": [
        "#melatih model menggunakan data generator yang telah dibuat sebelumnya. \n",
        "model.fit(\n",
        "    training_generator,\n",
        "    steps_per_epoch = 16,\n",
        "    epochs = 15,\n",
        "    validation_data = validation_generator,\n",
        "    validation_steps = 4,\n",
        "    verbose = 2\n",
        ")\n",
        "  "
      ]
    },
    {
      "cell_type": "code",
      "execution_count": null,
      "metadata": {
        "id": "IkwgXu2sdLn-"
      },
      "outputs": [],
      "source": [
        "import numpy as np                                #mengimport library NumPy untuk mengolah array dan matriks numerik dalam Python.\n",
        "from google.colab import files                    #mengimport files dari Google Colab untuk dapat mengupload file dari komputer ke Google Colab.\n",
        "from tensorflow.keras.preprocessing import image  #mengimport modul image dari library Keras untuk melakukan preprocessing terhadap gambar sebelum melakukan prediksi.\n",
        "import matplotlib.pyplot as plt                   #mengimport library Matplotlib untuk menampilkan visualisasi grafik atau gambar.\n",
        "import matplotlib.image as mpimg                  #mengimport modul image dari library Matplotlib untuk memproses dan menampilkan gambar.\n",
        "\n",
        "%matplotlib inline                                \n",
        "     "
      ]
    },
    {
      "cell_type": "markdown",
      "metadata": {
        "id": "sTJWWIu-xTTd"
      },
      "source": [
        "implementasi dari model CNN (Convolutional Neural Network)"
      ]
    },
    {
      "cell_type": "code",
      "execution_count": null,
      "metadata": {
        "colab": {
          "base_uri": "https://localhost:8080/",
          "height": 503
        },
        "id": "SDdF7N_CeScN",
        "outputId": "756f827c-1170-4da9-a992-6b9cf04db690"
      },
      "outputs": [
        {
          "output_type": "display_data",
          "data": {
            "text/plain": [
              "<IPython.core.display.HTML object>"
            ],
            "text/html": [
              "\n",
              "     <input type=\"file\" id=\"files-f4597d23-94a5-4d55-a5a5-bb3012a14269\" name=\"files[]\" multiple disabled\n",
              "        style=\"border:none\" />\n",
              "     <output id=\"result-f4597d23-94a5-4d55-a5a5-bb3012a14269\">\n",
              "      Upload widget is only available when the cell has been executed in the\n",
              "      current browser session. Please rerun this cell to enable.\n",
              "      </output>\n",
              "      <script>// Copyright 2017 Google LLC\n",
              "//\n",
              "// Licensed under the Apache License, Version 2.0 (the \"License\");\n",
              "// you may not use this file except in compliance with the License.\n",
              "// You may obtain a copy of the License at\n",
              "//\n",
              "//      http://www.apache.org/licenses/LICENSE-2.0\n",
              "//\n",
              "// Unless required by applicable law or agreed to in writing, software\n",
              "// distributed under the License is distributed on an \"AS IS\" BASIS,\n",
              "// WITHOUT WARRANTIES OR CONDITIONS OF ANY KIND, either express or implied.\n",
              "// See the License for the specific language governing permissions and\n",
              "// limitations under the License.\n",
              "\n",
              "/**\n",
              " * @fileoverview Helpers for google.colab Python module.\n",
              " */\n",
              "(function(scope) {\n",
              "function span(text, styleAttributes = {}) {\n",
              "  const element = document.createElement('span');\n",
              "  element.textContent = text;\n",
              "  for (const key of Object.keys(styleAttributes)) {\n",
              "    element.style[key] = styleAttributes[key];\n",
              "  }\n",
              "  return element;\n",
              "}\n",
              "\n",
              "// Max number of bytes which will be uploaded at a time.\n",
              "const MAX_PAYLOAD_SIZE = 100 * 1024;\n",
              "\n",
              "function _uploadFiles(inputId, outputId) {\n",
              "  const steps = uploadFilesStep(inputId, outputId);\n",
              "  const outputElement = document.getElementById(outputId);\n",
              "  // Cache steps on the outputElement to make it available for the next call\n",
              "  // to uploadFilesContinue from Python.\n",
              "  outputElement.steps = steps;\n",
              "\n",
              "  return _uploadFilesContinue(outputId);\n",
              "}\n",
              "\n",
              "// This is roughly an async generator (not supported in the browser yet),\n",
              "// where there are multiple asynchronous steps and the Python side is going\n",
              "// to poll for completion of each step.\n",
              "// This uses a Promise to block the python side on completion of each step,\n",
              "// then passes the result of the previous step as the input to the next step.\n",
              "function _uploadFilesContinue(outputId) {\n",
              "  const outputElement = document.getElementById(outputId);\n",
              "  const steps = outputElement.steps;\n",
              "\n",
              "  const next = steps.next(outputElement.lastPromiseValue);\n",
              "  return Promise.resolve(next.value.promise).then((value) => {\n",
              "    // Cache the last promise value to make it available to the next\n",
              "    // step of the generator.\n",
              "    outputElement.lastPromiseValue = value;\n",
              "    return next.value.response;\n",
              "  });\n",
              "}\n",
              "\n",
              "/**\n",
              " * Generator function which is called between each async step of the upload\n",
              " * process.\n",
              " * @param {string} inputId Element ID of the input file picker element.\n",
              " * @param {string} outputId Element ID of the output display.\n",
              " * @return {!Iterable<!Object>} Iterable of next steps.\n",
              " */\n",
              "function* uploadFilesStep(inputId, outputId) {\n",
              "  const inputElement = document.getElementById(inputId);\n",
              "  inputElement.disabled = false;\n",
              "\n",
              "  const outputElement = document.getElementById(outputId);\n",
              "  outputElement.innerHTML = '';\n",
              "\n",
              "  const pickedPromise = new Promise((resolve) => {\n",
              "    inputElement.addEventListener('change', (e) => {\n",
              "      resolve(e.target.files);\n",
              "    });\n",
              "  });\n",
              "\n",
              "  const cancel = document.createElement('button');\n",
              "  inputElement.parentElement.appendChild(cancel);\n",
              "  cancel.textContent = 'Cancel upload';\n",
              "  const cancelPromise = new Promise((resolve) => {\n",
              "    cancel.onclick = () => {\n",
              "      resolve(null);\n",
              "    };\n",
              "  });\n",
              "\n",
              "  // Wait for the user to pick the files.\n",
              "  const files = yield {\n",
              "    promise: Promise.race([pickedPromise, cancelPromise]),\n",
              "    response: {\n",
              "      action: 'starting',\n",
              "    }\n",
              "  };\n",
              "\n",
              "  cancel.remove();\n",
              "\n",
              "  // Disable the input element since further picks are not allowed.\n",
              "  inputElement.disabled = true;\n",
              "\n",
              "  if (!files) {\n",
              "    return {\n",
              "      response: {\n",
              "        action: 'complete',\n",
              "      }\n",
              "    };\n",
              "  }\n",
              "\n",
              "  for (const file of files) {\n",
              "    const li = document.createElement('li');\n",
              "    li.append(span(file.name, {fontWeight: 'bold'}));\n",
              "    li.append(span(\n",
              "        `(${file.type || 'n/a'}) - ${file.size} bytes, ` +\n",
              "        `last modified: ${\n",
              "            file.lastModifiedDate ? file.lastModifiedDate.toLocaleDateString() :\n",
              "                                    'n/a'} - `));\n",
              "    const percent = span('0% done');\n",
              "    li.appendChild(percent);\n",
              "\n",
              "    outputElement.appendChild(li);\n",
              "\n",
              "    const fileDataPromise = new Promise((resolve) => {\n",
              "      const reader = new FileReader();\n",
              "      reader.onload = (e) => {\n",
              "        resolve(e.target.result);\n",
              "      };\n",
              "      reader.readAsArrayBuffer(file);\n",
              "    });\n",
              "    // Wait for the data to be ready.\n",
              "    let fileData = yield {\n",
              "      promise: fileDataPromise,\n",
              "      response: {\n",
              "        action: 'continue',\n",
              "      }\n",
              "    };\n",
              "\n",
              "    // Use a chunked sending to avoid message size limits. See b/62115660.\n",
              "    let position = 0;\n",
              "    do {\n",
              "      const length = Math.min(fileData.byteLength - position, MAX_PAYLOAD_SIZE);\n",
              "      const chunk = new Uint8Array(fileData, position, length);\n",
              "      position += length;\n",
              "\n",
              "      const base64 = btoa(String.fromCharCode.apply(null, chunk));\n",
              "      yield {\n",
              "        response: {\n",
              "          action: 'append',\n",
              "          file: file.name,\n",
              "          data: base64,\n",
              "        },\n",
              "      };\n",
              "\n",
              "      let percentDone = fileData.byteLength === 0 ?\n",
              "          100 :\n",
              "          Math.round((position / fileData.byteLength) * 100);\n",
              "      percent.textContent = `${percentDone}% done`;\n",
              "\n",
              "    } while (position < fileData.byteLength);\n",
              "  }\n",
              "\n",
              "  // All done.\n",
              "  yield {\n",
              "    response: {\n",
              "      action: 'complete',\n",
              "    }\n",
              "  };\n",
              "}\n",
              "\n",
              "scope.google = scope.google || {};\n",
              "scope.google.colab = scope.google.colab || {};\n",
              "scope.google.colab._files = {\n",
              "  _uploadFiles,\n",
              "  _uploadFilesContinue,\n",
              "};\n",
              "})(self);\n",
              "</script> "
            ]
          },
          "metadata": {}
        },
        {
          "output_type": "stream",
          "name": "stdout",
          "text": [
            "Saving 1fKclJk4eBWOQSR1.png to 1fKclJk4eBWOQSR1.png\n",
            "1/1 [==============================] - 0s 29ms/step\n",
            "1fKclJk4eBWOQSR1.png\n",
            "Gambar Kertas\n"
          ]
        },
        {
          "output_type": "display_data",
          "data": {
            "text/plain": [
              "<Figure size 640x480 with 1 Axes>"
            ],
            "image/png": "[encoded data removed]"
          },
          "metadata": {}
        }
      ],
      "source": [
        "# untuk mengupload gambar dari perangkat lokal dan kemudian mengembalikannya sebagai dictionary.\n",
        "uploaded = files.upload()\n",
        "\n",
        "for gambar in uploaded.keys():                                # mengulang setiap gambar yang diupload.\n",
        "  path = gambar                                               # menunjukkan lokasi gambar yang akan diproses.\n",
        "  img = image.load_img(path, target_size = (100, 150))        # memuat gambar sebagai objek dan menentukan ukuran gambar yang akan diproses.\n",
        "  imgplot = plt.imshow(img)                                   # menampilkan gambar menggunakan matplotlib.\n",
        "  x = image.img_to_array(img)                                 # mengubah gambar menjadi array.\n",
        "  x = np.expand_dims(x, axis = 0)                             # menambahkan dimensi baru pada array.\n",
        "\n",
        "  images = np.vstack([x])                                     # menumpuk beberapa array menjadi satu.\n",
        "  clasification = model.predict(images, batch_size = 10)      # mengklasifikasikan gambar menggunakan model CNN.\n",
        "\n",
        "  print(gambar)                                               #menampilkan gambar\n",
        "  if clasification[0][0] == 1:                                #menentukan kategori gambar \n",
        "    print(\"Gambar Kertas\")\n",
        "  elif clasification[0][1] == 1:\n",
        "    print(\"Gambar Batu\")\n",
        "  elif clasification[0][2] == 1:\n",
        "    print(\"Gambar gunting\")\n",
        "  else:\n",
        "    print(\"Gambar tidak dikenali\")"
      ]
    },
    {
      "cell_type": "code",
      "execution_count": null,
      "metadata": {
        "colab": {
          "base_uri": "https://localhost:8080/"
        },
        "id": "k5oRRndseW1f",
        "outputId": "6868408e-9eee-464a-8494-4c1207cfdc04"
      },
      "outputs": [
        {
          "output_type": "stream",
          "name": "stdout",
          "text": [
            "28/28 [==============================] - 14s 514ms/step - loss: 0.1750 - accuracy: 0.9497\n",
            "Accuracy: 0.9496567249298096\n"
          ]
        }
      ],
      "source": [
        "loss, accuracy = model.evaluate(validation_generator)\n",
        "print('Accuracy:', accuracy)\n",
        "\n"
      ]
    }
  ],
  "metadata": {
    "colab": {
      "provenance": [],
      "toc_visible": true,
      "authorship_tag": "ABX9TyPSYWjqAj8nuVjDQjQsmwZG",
      "include_colab_link": true
    },
    "kernelspec": {
      "display_name": "Python 3",
      "name": "python3"
    },
    "language_info": {
      "name": "python"
    }
  },
  "nbformat": 4,
  "nbformat_minor": 0
}